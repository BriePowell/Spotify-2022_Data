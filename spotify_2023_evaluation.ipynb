{
 "cells": [
  {
   "cell_type": "code",
   "execution_count": 2,
   "metadata": {},
   "outputs": [],
   "source": [
    "import pandas as pd\n",
    "import numpy as np\n",
    "from calendar import *\n",
    "from datetime import datetime\n",
    "import matplotlib.pyplot as plt\n",
    "import seaborn as sns\n",
    "import numpy as np\n"
   ]
  },
  {
   "attachments": {},
   "cell_type": "markdown",
   "metadata": {},
   "source": [
    "##### Import Data"
   ]
  },
  {
   "cell_type": "code",
   "execution_count": 3,
   "metadata": {},
   "outputs": [],
   "source": [
    "t_data = pd.read_csv('spotify_2022_clean.csv')\n",
    "\n",
    "#the read statements generate pandas dataframes"
   ]
  },
  {
   "cell_type": "code",
   "execution_count": 4,
   "metadata": {},
   "outputs": [],
   "source": [
    "type(t_data)\n",
    "t_data.head(3)"
   ]
  },
  {
   "attachments": {},
   "cell_type": "markdown",
   "metadata": {},
   "source": [
    "#### Prep Data for Visualization"
   ]
  },
  {
   "cell_type": "code",
   "execution_count": 5,
   "metadata": {},
   "outputs": [],
   "source": [
    "data22 = t_data.drop(columns = 'Unnamed: 0')"
   ]
  },
  {
   "cell_type": "code",
   "execution_count": 6,
   "metadata": {},
   "outputs": [
    {
     "data": {
      "text/html": [
       "<div>\n",
       "<style scoped>\n",
       "    .dataframe tbody tr th:only-of-type {\n",
       "        vertical-align: middle;\n",
       "    }\n",
       "\n",
       "    .dataframe tbody tr th {\n",
       "        vertical-align: top;\n",
       "    }\n",
       "\n",
       "    .dataframe thead th {\n",
       "        text-align: right;\n",
       "    }\n",
       "</style>\n",
       "<table border=\"1\" class=\"dataframe\">\n",
       "  <thead>\n",
       "    <tr style=\"text-align: right;\">\n",
       "      <th></th>\n",
       "      <th>Artist</th>\n",
       "      <th>Track</th>\n",
       "      <th>Runtime (mins)</th>\n",
       "      <th>Date</th>\n",
       "      <th>Time</th>\n",
       "      <th>DateTime</th>\n",
       "      <th>msPlayed</th>\n",
       "      <th>Day</th>\n",
       "    </tr>\n",
       "  </thead>\n",
       "  <tbody>\n",
       "    <tr>\n",
       "      <th>0</th>\n",
       "      <td>1A</td>\n",
       "      <td>When A Kid Takes A Gun, Who's Responsible?</td>\n",
       "      <td>33.11</td>\n",
       "      <td>2021-12-11</td>\n",
       "      <td>22:08</td>\n",
       "      <td>2021-12-11 22:08:00</td>\n",
       "      <td>1986784</td>\n",
       "      <td>Saturday</td>\n",
       "    </tr>\n",
       "    <tr>\n",
       "      <th>1</th>\n",
       "      <td>1A</td>\n",
       "      <td>The News Roundup for December 10, 2021</td>\n",
       "      <td>62.39</td>\n",
       "      <td>2021-12-12</td>\n",
       "      <td>16:48</td>\n",
       "      <td>2021-12-12 16:48:00</td>\n",
       "      <td>3743130</td>\n",
       "      <td>Sunday</td>\n",
       "    </tr>\n",
       "    <tr>\n",
       "      <th>2</th>\n",
       "      <td>1A</td>\n",
       "      <td>The News Roundup for December 10, 2021</td>\n",
       "      <td>18.57</td>\n",
       "      <td>2021-12-12</td>\n",
       "      <td>21:40</td>\n",
       "      <td>2021-12-12 21:40:00</td>\n",
       "      <td>1113944</td>\n",
       "      <td>Sunday</td>\n",
       "    </tr>\n",
       "  </tbody>\n",
       "</table>\n",
       "</div>"
      ],
      "text/plain": [
       "  Artist                                       Track  Runtime (mins)  \\\n",
       "0     1A  When A Kid Takes A Gun, Who's Responsible?           33.11   \n",
       "1     1A      The News Roundup for December 10, 2021           62.39   \n",
       "2     1A      The News Roundup for December 10, 2021           18.57   \n",
       "\n",
       "         Date   Time             DateTime  msPlayed       Day  \n",
       "0  2021-12-11  22:08  2021-12-11 22:08:00   1986784  Saturday  \n",
       "1  2021-12-12  16:48  2021-12-12 16:48:00   3743130    Sunday  \n",
       "2  2021-12-12  21:40  2021-12-12 21:40:00   1113944    Sunday  "
      ]
     },
     "execution_count": 6,
     "metadata": {},
     "output_type": "execute_result"
    }
   ],
   "source": [
    "data22.head(3)"
   ]
  },
  {
   "cell_type": "code",
   "execution_count": 7,
   "metadata": {},
   "outputs": [],
   "source": [
    "# CYA Cast for Main df\n",
    "\n",
    "data22['DateTime'] = pd.to_datetime(data22['DateTime'])\n",
    "data22['Date'] = pd.to_datetime(data22['Date'])\n",
    "data22['Time'] = pd.to_datetime(data22['DateTime']).dt.time"
   ]
  },
  {
   "cell_type": "code",
   "execution_count": 8,
   "metadata": {},
   "outputs": [
    {
     "name": "stdout",
     "output_type": "stream",
     "text": [
      "<class 'pandas.core.frame.DataFrame'>\n",
      "RangeIndex: 8724 entries, 0 to 8723\n",
      "Data columns (total 8 columns):\n",
      " #   Column          Non-Null Count  Dtype         \n",
      "---  ------          --------------  -----         \n",
      " 0   Artist          8724 non-null   object        \n",
      " 1   Track           8724 non-null   object        \n",
      " 2   Runtime (mins)  8724 non-null   float64       \n",
      " 3   Date            8724 non-null   datetime64[ns]\n",
      " 4   Time            8724 non-null   object        \n",
      " 5   DateTime        8724 non-null   datetime64[ns]\n",
      " 6   msPlayed        8724 non-null   int64         \n",
      " 7   Day             8724 non-null   object        \n",
      "dtypes: datetime64[ns](2), float64(1), int64(1), object(4)\n",
      "memory usage: 545.4+ KB\n"
     ]
    }
   ],
   "source": [
    "data22.info()"
   ]
  },
  {
   "cell_type": "code",
   "execution_count": 9,
   "metadata": {},
   "outputs": [
    {
     "data": {
      "text/plain": [
       "Artist             488\n",
       "Track             2769\n",
       "Runtime (mins)    1992\n",
       "Date               316\n",
       "Time              1416\n",
       "DateTime          8140\n",
       "msPlayed          4621\n",
       "Day                  7\n",
       "dtype: int64"
      ]
     },
     "execution_count": 9,
     "metadata": {},
     "output_type": "execute_result"
    }
   ],
   "source": [
    "data22.nunique()\n",
    "# this dataset doesn't have the 'index' column at the end because it is the original index, I wanted a clean index for the\n",
    "# extraction df's so they have a newly reset index and put their original position at the end jic"
   ]
  },
  {
   "attachments": {},
   "cell_type": "markdown",
   "metadata": {},
   "source": [
    "###### Create Categorical Buckets"
   ]
  },
  {
   "cell_type": "code",
   "execution_count": 10,
   "metadata": {},
   "outputs": [
    {
     "data": {
      "text/html": [
       "<div>\n",
       "<style scoped>\n",
       "    .dataframe tbody tr th:only-of-type {\n",
       "        vertical-align: middle;\n",
       "    }\n",
       "\n",
       "    .dataframe tbody tr th {\n",
       "        vertical-align: top;\n",
       "    }\n",
       "\n",
       "    .dataframe thead th {\n",
       "        text-align: right;\n",
       "    }\n",
       "</style>\n",
       "<table border=\"1\" class=\"dataframe\">\n",
       "  <thead>\n",
       "    <tr style=\"text-align: right;\">\n",
       "      <th></th>\n",
       "      <th>Artist</th>\n",
       "      <th>Track</th>\n",
       "      <th>Runtime (mins)</th>\n",
       "      <th>Date</th>\n",
       "      <th>Time</th>\n",
       "      <th>DateTime</th>\n",
       "      <th>msPlayed</th>\n",
       "      <th>Day</th>\n",
       "      <th>ToD</th>\n",
       "    </tr>\n",
       "  </thead>\n",
       "  <tbody>\n",
       "    <tr>\n",
       "      <th>0</th>\n",
       "      <td>1A</td>\n",
       "      <td>When A Kid Takes A Gun, Who's Responsible?</td>\n",
       "      <td>33.11</td>\n",
       "      <td>2021-12-11</td>\n",
       "      <td>22:08:00</td>\n",
       "      <td>2021-12-11 22:08:00</td>\n",
       "      <td>1986784</td>\n",
       "      <td>Saturday</td>\n",
       "      <td>Night</td>\n",
       "    </tr>\n",
       "    <tr>\n",
       "      <th>1</th>\n",
       "      <td>1A</td>\n",
       "      <td>The News Roundup for December 10, 2021</td>\n",
       "      <td>62.39</td>\n",
       "      <td>2021-12-12</td>\n",
       "      <td>16:48:00</td>\n",
       "      <td>2021-12-12 16:48:00</td>\n",
       "      <td>3743130</td>\n",
       "      <td>Sunday</td>\n",
       "      <td>Daytime</td>\n",
       "    </tr>\n",
       "    <tr>\n",
       "      <th>2</th>\n",
       "      <td>1A</td>\n",
       "      <td>The News Roundup for December 10, 2021</td>\n",
       "      <td>18.57</td>\n",
       "      <td>2021-12-12</td>\n",
       "      <td>21:40:00</td>\n",
       "      <td>2021-12-12 21:40:00</td>\n",
       "      <td>1113944</td>\n",
       "      <td>Sunday</td>\n",
       "      <td>Night</td>\n",
       "    </tr>\n",
       "    <tr>\n",
       "      <th>3</th>\n",
       "      <td>1A</td>\n",
       "      <td>The News Roundup for December 10, 2021</td>\n",
       "      <td>17.39</td>\n",
       "      <td>2021-12-12</td>\n",
       "      <td>22:32:00</td>\n",
       "      <td>2021-12-12 22:32:00</td>\n",
       "      <td>1043458</td>\n",
       "      <td>Sunday</td>\n",
       "      <td>Night</td>\n",
       "    </tr>\n",
       "    <tr>\n",
       "      <th>4</th>\n",
       "      <td>Megan Thee Stallion</td>\n",
       "      <td>Thot Shit</td>\n",
       "      <td>3.34</td>\n",
       "      <td>2021-12-12</td>\n",
       "      <td>22:36:00</td>\n",
       "      <td>2021-12-12 22:36:00</td>\n",
       "      <td>200411</td>\n",
       "      <td>Sunday</td>\n",
       "      <td>Night</td>\n",
       "    </tr>\n",
       "    <tr>\n",
       "      <th>...</th>\n",
       "      <td>...</td>\n",
       "      <td>...</td>\n",
       "      <td>...</td>\n",
       "      <td>...</td>\n",
       "      <td>...</td>\n",
       "      <td>...</td>\n",
       "      <td>...</td>\n",
       "      <td>...</td>\n",
       "      <td>...</td>\n",
       "    </tr>\n",
       "    <tr>\n",
       "      <th>8719</th>\n",
       "      <td>Up First</td>\n",
       "      <td>Saturday, December 10, 2022</td>\n",
       "      <td>14.49</td>\n",
       "      <td>2022-12-11</td>\n",
       "      <td>04:45:00</td>\n",
       "      <td>2022-12-11 04:45:00</td>\n",
       "      <td>869656</td>\n",
       "      <td>Sunday</td>\n",
       "      <td>Overnight</td>\n",
       "    </tr>\n",
       "    <tr>\n",
       "      <th>8720</th>\n",
       "      <td>Offline with Jon Favreau</td>\n",
       "      <td>Is This the End of Social Media? With Ian Bogost</td>\n",
       "      <td>45.15</td>\n",
       "      <td>2022-12-11</td>\n",
       "      <td>19:26:00</td>\n",
       "      <td>2022-12-11 19:26:00</td>\n",
       "      <td>2709278</td>\n",
       "      <td>Sunday</td>\n",
       "      <td>Evening</td>\n",
       "    </tr>\n",
       "    <tr>\n",
       "      <th>8721</th>\n",
       "      <td>Jordan Klepper Fingers the Conspiracy</td>\n",
       "      <td>Hunter Biden's Laptop</td>\n",
       "      <td>81.51</td>\n",
       "      <td>2022-12-11</td>\n",
       "      <td>20:49:00</td>\n",
       "      <td>2022-12-11 20:49:00</td>\n",
       "      <td>4890538</td>\n",
       "      <td>Sunday</td>\n",
       "      <td>Night</td>\n",
       "    </tr>\n",
       "    <tr>\n",
       "      <th>8722</th>\n",
       "      <td>The Read</td>\n",
       "      <td>YT Assistance</td>\n",
       "      <td>80.56</td>\n",
       "      <td>2022-12-11</td>\n",
       "      <td>22:11:00</td>\n",
       "      <td>2022-12-11 22:11:00</td>\n",
       "      <td>4833760</td>\n",
       "      <td>Sunday</td>\n",
       "      <td>Night</td>\n",
       "    </tr>\n",
       "    <tr>\n",
       "      <th>8723</th>\n",
       "      <td>Up First</td>\n",
       "      <td>Monday, December 12, 2022</td>\n",
       "      <td>12.76</td>\n",
       "      <td>2022-12-12</td>\n",
       "      <td>20:33:00</td>\n",
       "      <td>2022-12-12 20:33:00</td>\n",
       "      <td>765674</td>\n",
       "      <td>Monday</td>\n",
       "      <td>Night</td>\n",
       "    </tr>\n",
       "  </tbody>\n",
       "</table>\n",
       "<p>8724 rows × 9 columns</p>\n",
       "</div>"
      ],
      "text/plain": [
       "                                     Artist  \\\n",
       "0                                        1A   \n",
       "1                                        1A   \n",
       "2                                        1A   \n",
       "3                                        1A   \n",
       "4                       Megan Thee Stallion   \n",
       "...                                     ...   \n",
       "8719                               Up First   \n",
       "8720               Offline with Jon Favreau   \n",
       "8721  Jordan Klepper Fingers the Conspiracy   \n",
       "8722                               The Read   \n",
       "8723                               Up First   \n",
       "\n",
       "                                                 Track  Runtime (mins)  \\\n",
       "0           When A Kid Takes A Gun, Who's Responsible?           33.11   \n",
       "1               The News Roundup for December 10, 2021           62.39   \n",
       "2               The News Roundup for December 10, 2021           18.57   \n",
       "3               The News Roundup for December 10, 2021           17.39   \n",
       "4                                            Thot Shit            3.34   \n",
       "...                                                ...             ...   \n",
       "8719                       Saturday, December 10, 2022           14.49   \n",
       "8720  Is This the End of Social Media? With Ian Bogost           45.15   \n",
       "8721                             Hunter Biden's Laptop           81.51   \n",
       "8722                                     YT Assistance           80.56   \n",
       "8723                         Monday, December 12, 2022           12.76   \n",
       "\n",
       "           Date      Time            DateTime  msPlayed       Day        ToD  \n",
       "0    2021-12-11  22:08:00 2021-12-11 22:08:00   1986784  Saturday      Night  \n",
       "1    2021-12-12  16:48:00 2021-12-12 16:48:00   3743130    Sunday    Daytime  \n",
       "2    2021-12-12  21:40:00 2021-12-12 21:40:00   1113944    Sunday      Night  \n",
       "3    2021-12-12  22:32:00 2021-12-12 22:32:00   1043458    Sunday      Night  \n",
       "4    2021-12-12  22:36:00 2021-12-12 22:36:00    200411    Sunday      Night  \n",
       "...         ...       ...                 ...       ...       ...        ...  \n",
       "8719 2022-12-11  04:45:00 2022-12-11 04:45:00    869656    Sunday  Overnight  \n",
       "8720 2022-12-11  19:26:00 2022-12-11 19:26:00   2709278    Sunday    Evening  \n",
       "8721 2022-12-11  20:49:00 2022-12-11 20:49:00   4890538    Sunday      Night  \n",
       "8722 2022-12-11  22:11:00 2022-12-11 22:11:00   4833760    Sunday      Night  \n",
       "8723 2022-12-12  20:33:00 2022-12-12 20:33:00    765674    Monday      Night  \n",
       "\n",
       "[8724 rows x 9 columns]"
      ]
     },
     "execution_count": 10,
     "metadata": {},
     "output_type": "execute_result"
    }
   ],
   "source": [
    "## Binned Data by Time of Day\n",
    "\n",
    "bins = [0, 7, 12, 17, 20, 24]\n",
    "\n",
    "labels = ['Overnight', 'Morning', 'Daytime', 'Evening', 'Night']\n",
    "\n",
    "data22['ToD'] = pd.cut(data22.DateTime.dt.hour, bins, labels=labels, right=False)\n",
    "\n",
    "data22"
   ]
  },
  {
   "cell_type": "code",
   "execution_count": 11,
   "metadata": {},
   "outputs": [],
   "source": [
    "podcasts = ['1A','FiveThirtyEight Politics','The NPR Politics Podcast','Throughline','The Professional Chatterbox',\n",
    "'You\\'re Wrong About','Code Switch','Fresh Air','Beyond the Scenes from The Daily Show','Harry, Meghan and the Media',\n",
    "'Off The Rails','Gossip with Celebitchy','The Royal Report','Bryony Gordon\\'s Mad World','Higher Learning with Van Lathan and Rachel Lindsay',\n",
    "'Disclosure','The Rachel Maddow Show','Archewell Audio','By The Book','The Man Enough Podcast','The Problem With Jon Stewart','Offline with Jon Favreau',\n",
    "'Maintenance Phase','Armchair Expert with Dax Shepard','Conversations with People Who Hate Me','Sounds Like A Cult',\n",
    "'Masters of Scale','Queens Cast','The Read','All In with Chris Hayes','QAnon Anonymous','Swindled','Life After MLM',\n",
    "'Fit Literate','The Up-Beet Dietitians','Con Artists','Pod Save America','Up First','All Songs Considered',\n",
    "'Pod Save the World','Downline','Into It: A Vulture Podcast with Sam Sanders', 'Criminal','The Ezra Klein Show',\n",
    "'How It Happened','Truthers: Tiffany Dover Is Dead*','Notes from America','The Receipts Podcast', 'The Cut',\n",
    "'The New Way We Work','Embedded', 'Pop Culture Happy Hour','Mythology','Archetypes','Larry Wilmore: Black on the Air',\n",
    "'Louder Than A Riot','Stranger Fruit Voices','You and Me Both with Hillary Clinton','Dates & Mates with Damona Hoffman','The Wilderness' 'Maths Time Joy',\n",
    " 'Make Me Smart', 'Bloomberg Businessweek','The Inquiry','The Gal Code','Strict Scrutiny', 'Hard Fork', \"James O'Brien - The Whole Show\",\n",
    " \"I'ma Need More Wine Podcast\",'Metro Morning from CBC Radio Toronto (Highlights)','CBC News At Issue','Front Burner','The House from CBC Radio',\n",
    " 'The Daily Show With Trevor Noah: Ears Edition','If Books Could Kill','Around The Way Curls','On with Kara Swisher',\n",
    " 'Why Is This Happening? The Chris Hayes Podcast','The Stoop','Jordan Klepper Fingers the Conspiracy','Vibe Check','Pivot','BYLINE TIMES PODCAST','Your Undivided Attention'\n",
    " ]"
   ]
  },
  {
   "cell_type": "code",
   "execution_count": 12,
   "metadata": {},
   "outputs": [],
   "source": [
    "#add a column to the table \n",
    "data22['Type'] = None\n",
    "\n",
    "data22['Type'] =  np.where(data22['Artist'].isin(podcasts), 'Podcast', 'Music')"
   ]
  },
  {
   "cell_type": "code",
   "execution_count": 13,
   "metadata": {},
   "outputs": [
    {
     "data": {
      "text/html": [
       "<div>\n",
       "<style scoped>\n",
       "    .dataframe tbody tr th:only-of-type {\n",
       "        vertical-align: middle;\n",
       "    }\n",
       "\n",
       "    .dataframe tbody tr th {\n",
       "        vertical-align: top;\n",
       "    }\n",
       "\n",
       "    .dataframe thead th {\n",
       "        text-align: right;\n",
       "    }\n",
       "</style>\n",
       "<table border=\"1\" class=\"dataframe\">\n",
       "  <thead>\n",
       "    <tr style=\"text-align: right;\">\n",
       "      <th></th>\n",
       "      <th>Artist</th>\n",
       "      <th>Track</th>\n",
       "      <th>Runtime (mins)</th>\n",
       "      <th>Date</th>\n",
       "      <th>Time</th>\n",
       "      <th>DateTime</th>\n",
       "      <th>msPlayed</th>\n",
       "      <th>Day</th>\n",
       "      <th>ToD</th>\n",
       "      <th>Type</th>\n",
       "    </tr>\n",
       "  </thead>\n",
       "  <tbody>\n",
       "    <tr>\n",
       "      <th>0</th>\n",
       "      <td>1A</td>\n",
       "      <td>When A Kid Takes A Gun, Who's Responsible?</td>\n",
       "      <td>33.11</td>\n",
       "      <td>2021-12-11</td>\n",
       "      <td>22:08:00</td>\n",
       "      <td>2021-12-11 22:08:00</td>\n",
       "      <td>1986784</td>\n",
       "      <td>Saturday</td>\n",
       "      <td>Night</td>\n",
       "      <td>Podcast</td>\n",
       "    </tr>\n",
       "    <tr>\n",
       "      <th>1</th>\n",
       "      <td>1A</td>\n",
       "      <td>The News Roundup for December 10, 2021</td>\n",
       "      <td>62.39</td>\n",
       "      <td>2021-12-12</td>\n",
       "      <td>16:48:00</td>\n",
       "      <td>2021-12-12 16:48:00</td>\n",
       "      <td>3743130</td>\n",
       "      <td>Sunday</td>\n",
       "      <td>Daytime</td>\n",
       "      <td>Podcast</td>\n",
       "    </tr>\n",
       "    <tr>\n",
       "      <th>2</th>\n",
       "      <td>1A</td>\n",
       "      <td>The News Roundup for December 10, 2021</td>\n",
       "      <td>18.57</td>\n",
       "      <td>2021-12-12</td>\n",
       "      <td>21:40:00</td>\n",
       "      <td>2021-12-12 21:40:00</td>\n",
       "      <td>1113944</td>\n",
       "      <td>Sunday</td>\n",
       "      <td>Night</td>\n",
       "      <td>Podcast</td>\n",
       "    </tr>\n",
       "    <tr>\n",
       "      <th>3</th>\n",
       "      <td>1A</td>\n",
       "      <td>The News Roundup for December 10, 2021</td>\n",
       "      <td>17.39</td>\n",
       "      <td>2021-12-12</td>\n",
       "      <td>22:32:00</td>\n",
       "      <td>2021-12-12 22:32:00</td>\n",
       "      <td>1043458</td>\n",
       "      <td>Sunday</td>\n",
       "      <td>Night</td>\n",
       "      <td>Podcast</td>\n",
       "    </tr>\n",
       "    <tr>\n",
       "      <th>4</th>\n",
       "      <td>Megan Thee Stallion</td>\n",
       "      <td>Thot Shit</td>\n",
       "      <td>3.34</td>\n",
       "      <td>2021-12-12</td>\n",
       "      <td>22:36:00</td>\n",
       "      <td>2021-12-12 22:36:00</td>\n",
       "      <td>200411</td>\n",
       "      <td>Sunday</td>\n",
       "      <td>Night</td>\n",
       "      <td>Music</td>\n",
       "    </tr>\n",
       "    <tr>\n",
       "      <th>5</th>\n",
       "      <td>Chlöe</td>\n",
       "      <td>Have Mercy</td>\n",
       "      <td>2.48</td>\n",
       "      <td>2021-12-12</td>\n",
       "      <td>22:38:00</td>\n",
       "      <td>2021-12-12 22:38:00</td>\n",
       "      <td>148778</td>\n",
       "      <td>Sunday</td>\n",
       "      <td>Night</td>\n",
       "      <td>Music</td>\n",
       "    </tr>\n",
       "    <tr>\n",
       "      <th>6</th>\n",
       "      <td>Jesy Nelson</td>\n",
       "      <td>Boyz (feat. Nicki Minaj)</td>\n",
       "      <td>0.40</td>\n",
       "      <td>2021-12-12</td>\n",
       "      <td>22:38:00</td>\n",
       "      <td>2021-12-12 22:38:00</td>\n",
       "      <td>23754</td>\n",
       "      <td>Sunday</td>\n",
       "      <td>Night</td>\n",
       "      <td>Music</td>\n",
       "    </tr>\n",
       "    <tr>\n",
       "      <th>7</th>\n",
       "      <td>Chlöe</td>\n",
       "      <td>Have Mercy</td>\n",
       "      <td>2.16</td>\n",
       "      <td>2021-12-12</td>\n",
       "      <td>22:41:00</td>\n",
       "      <td>2021-12-12 22:41:00</td>\n",
       "      <td>129702</td>\n",
       "      <td>Sunday</td>\n",
       "      <td>Night</td>\n",
       "      <td>Music</td>\n",
       "    </tr>\n",
       "    <tr>\n",
       "      <th>8</th>\n",
       "      <td>SZA</td>\n",
       "      <td>The Weekend</td>\n",
       "      <td>4.38</td>\n",
       "      <td>2021-12-13</td>\n",
       "      <td>15:58:00</td>\n",
       "      <td>2021-12-13 15:58:00</td>\n",
       "      <td>262826</td>\n",
       "      <td>Monday</td>\n",
       "      <td>Daytime</td>\n",
       "      <td>Music</td>\n",
       "    </tr>\n",
       "    <tr>\n",
       "      <th>9</th>\n",
       "      <td>SZA</td>\n",
       "      <td>Go Gina</td>\n",
       "      <td>1.27</td>\n",
       "      <td>2021-12-13</td>\n",
       "      <td>15:59:00</td>\n",
       "      <td>2021-12-13 15:59:00</td>\n",
       "      <td>76095</td>\n",
       "      <td>Monday</td>\n",
       "      <td>Daytime</td>\n",
       "      <td>Music</td>\n",
       "    </tr>\n",
       "  </tbody>\n",
       "</table>\n",
       "</div>"
      ],
      "text/plain": [
       "                Artist                                       Track  \\\n",
       "0                   1A  When A Kid Takes A Gun, Who's Responsible?   \n",
       "1                   1A      The News Roundup for December 10, 2021   \n",
       "2                   1A      The News Roundup for December 10, 2021   \n",
       "3                   1A      The News Roundup for December 10, 2021   \n",
       "4  Megan Thee Stallion                                   Thot Shit   \n",
       "5                Chlöe                                  Have Mercy   \n",
       "6          Jesy Nelson                    Boyz (feat. Nicki Minaj)   \n",
       "7                Chlöe                                  Have Mercy   \n",
       "8                  SZA                                 The Weekend   \n",
       "9                  SZA                                     Go Gina   \n",
       "\n",
       "   Runtime (mins)       Date      Time            DateTime  msPlayed  \\\n",
       "0           33.11 2021-12-11  22:08:00 2021-12-11 22:08:00   1986784   \n",
       "1           62.39 2021-12-12  16:48:00 2021-12-12 16:48:00   3743130   \n",
       "2           18.57 2021-12-12  21:40:00 2021-12-12 21:40:00   1113944   \n",
       "3           17.39 2021-12-12  22:32:00 2021-12-12 22:32:00   1043458   \n",
       "4            3.34 2021-12-12  22:36:00 2021-12-12 22:36:00    200411   \n",
       "5            2.48 2021-12-12  22:38:00 2021-12-12 22:38:00    148778   \n",
       "6            0.40 2021-12-12  22:38:00 2021-12-12 22:38:00     23754   \n",
       "7            2.16 2021-12-12  22:41:00 2021-12-12 22:41:00    129702   \n",
       "8            4.38 2021-12-13  15:58:00 2021-12-13 15:58:00    262826   \n",
       "9            1.27 2021-12-13  15:59:00 2021-12-13 15:59:00     76095   \n",
       "\n",
       "        Day      ToD     Type  \n",
       "0  Saturday    Night  Podcast  \n",
       "1    Sunday  Daytime  Podcast  \n",
       "2    Sunday    Night  Podcast  \n",
       "3    Sunday    Night  Podcast  \n",
       "4    Sunday    Night    Music  \n",
       "5    Sunday    Night    Music  \n",
       "6    Sunday    Night    Music  \n",
       "7    Sunday    Night    Music  \n",
       "8    Monday  Daytime    Music  \n",
       "9    Monday  Daytime    Music  "
      ]
     },
     "execution_count": 13,
     "metadata": {},
     "output_type": "execute_result"
    }
   ],
   "source": [
    "data22.head(10)"
   ]
  },
  {
   "cell_type": "code",
   "execution_count": 15,
   "metadata": {},
   "outputs": [
    {
     "data": {
      "text/plain": [
       "Type\n",
       "Music      7134\n",
       "Podcast    1590\n",
       "dtype: int64"
      ]
     },
     "execution_count": 15,
     "metadata": {},
     "output_type": "execute_result"
    }
   ],
   "source": [
    "# Checking that number of podcasts/music is consistent\n",
    "\n",
    "data22.groupby('Type').size()"
   ]
  },
  {
   "cell_type": "code",
   "execution_count": 18,
   "metadata": {},
   "outputs": [
    {
     "data": {
      "text/html": [
       "<div>\n",
       "<style scoped>\n",
       "    .dataframe tbody tr th:only-of-type {\n",
       "        vertical-align: middle;\n",
       "    }\n",
       "\n",
       "    .dataframe tbody tr th {\n",
       "        vertical-align: top;\n",
       "    }\n",
       "\n",
       "    .dataframe thead th {\n",
       "        text-align: right;\n",
       "    }\n",
       "</style>\n",
       "<table border=\"1\" class=\"dataframe\">\n",
       "  <thead>\n",
       "    <tr style=\"text-align: right;\">\n",
       "      <th></th>\n",
       "      <th>Artist</th>\n",
       "      <th>Track</th>\n",
       "      <th>Runtime (mins)</th>\n",
       "      <th>Date</th>\n",
       "      <th>Time</th>\n",
       "      <th>DateTime</th>\n",
       "      <th>msPlayed</th>\n",
       "      <th>Day</th>\n",
       "      <th>ToD</th>\n",
       "      <th>Type</th>\n",
       "    </tr>\n",
       "  </thead>\n",
       "  <tbody>\n",
       "    <tr>\n",
       "      <th>0</th>\n",
       "      <td>1A</td>\n",
       "      <td>When A Kid Takes A Gun, Who's Responsible?</td>\n",
       "      <td>33.11</td>\n",
       "      <td>2021-12-11</td>\n",
       "      <td>22:08:00</td>\n",
       "      <td>2021-12-11 22:08:00</td>\n",
       "      <td>1986784</td>\n",
       "      <td>Saturday</td>\n",
       "      <td>Night</td>\n",
       "      <td>Podcast</td>\n",
       "    </tr>\n",
       "    <tr>\n",
       "      <th>1</th>\n",
       "      <td>1A</td>\n",
       "      <td>The News Roundup for December 10, 2021</td>\n",
       "      <td>62.39</td>\n",
       "      <td>2021-12-12</td>\n",
       "      <td>16:48:00</td>\n",
       "      <td>2021-12-12 16:48:00</td>\n",
       "      <td>3743130</td>\n",
       "      <td>Sunday</td>\n",
       "      <td>Daytime</td>\n",
       "      <td>Podcast</td>\n",
       "    </tr>\n",
       "    <tr>\n",
       "      <th>2</th>\n",
       "      <td>1A</td>\n",
       "      <td>The News Roundup for December 10, 2021</td>\n",
       "      <td>18.57</td>\n",
       "      <td>2021-12-12</td>\n",
       "      <td>21:40:00</td>\n",
       "      <td>2021-12-12 21:40:00</td>\n",
       "      <td>1113944</td>\n",
       "      <td>Sunday</td>\n",
       "      <td>Night</td>\n",
       "      <td>Podcast</td>\n",
       "    </tr>\n",
       "    <tr>\n",
       "      <th>3</th>\n",
       "      <td>1A</td>\n",
       "      <td>The News Roundup for December 10, 2021</td>\n",
       "      <td>17.39</td>\n",
       "      <td>2021-12-12</td>\n",
       "      <td>22:32:00</td>\n",
       "      <td>2021-12-12 22:32:00</td>\n",
       "      <td>1043458</td>\n",
       "      <td>Sunday</td>\n",
       "      <td>Night</td>\n",
       "      <td>Podcast</td>\n",
       "    </tr>\n",
       "    <tr>\n",
       "      <th>82</th>\n",
       "      <td>Your Undivided Attention</td>\n",
       "      <td>A Conversation with Facebook Whistleblower Fra...</td>\n",
       "      <td>47.33</td>\n",
       "      <td>2021-12-13</td>\n",
       "      <td>21:58:00</td>\n",
       "      <td>2021-12-13 21:58:00</td>\n",
       "      <td>2839786</td>\n",
       "      <td>Monday</td>\n",
       "      <td>Night</td>\n",
       "      <td>Podcast</td>\n",
       "    </tr>\n",
       "    <tr>\n",
       "      <th>...</th>\n",
       "      <td>...</td>\n",
       "      <td>...</td>\n",
       "      <td>...</td>\n",
       "      <td>...</td>\n",
       "      <td>...</td>\n",
       "      <td>...</td>\n",
       "      <td>...</td>\n",
       "      <td>...</td>\n",
       "      <td>...</td>\n",
       "      <td>...</td>\n",
       "    </tr>\n",
       "    <tr>\n",
       "      <th>8719</th>\n",
       "      <td>Up First</td>\n",
       "      <td>Saturday, December 10, 2022</td>\n",
       "      <td>14.49</td>\n",
       "      <td>2022-12-11</td>\n",
       "      <td>04:45:00</td>\n",
       "      <td>2022-12-11 04:45:00</td>\n",
       "      <td>869656</td>\n",
       "      <td>Sunday</td>\n",
       "      <td>Overnight</td>\n",
       "      <td>Podcast</td>\n",
       "    </tr>\n",
       "    <tr>\n",
       "      <th>8720</th>\n",
       "      <td>Offline with Jon Favreau</td>\n",
       "      <td>Is This the End of Social Media? With Ian Bogost</td>\n",
       "      <td>45.15</td>\n",
       "      <td>2022-12-11</td>\n",
       "      <td>19:26:00</td>\n",
       "      <td>2022-12-11 19:26:00</td>\n",
       "      <td>2709278</td>\n",
       "      <td>Sunday</td>\n",
       "      <td>Evening</td>\n",
       "      <td>Podcast</td>\n",
       "    </tr>\n",
       "    <tr>\n",
       "      <th>8721</th>\n",
       "      <td>Jordan Klepper Fingers the Conspiracy</td>\n",
       "      <td>Hunter Biden's Laptop</td>\n",
       "      <td>81.51</td>\n",
       "      <td>2022-12-11</td>\n",
       "      <td>20:49:00</td>\n",
       "      <td>2022-12-11 20:49:00</td>\n",
       "      <td>4890538</td>\n",
       "      <td>Sunday</td>\n",
       "      <td>Night</td>\n",
       "      <td>Podcast</td>\n",
       "    </tr>\n",
       "    <tr>\n",
       "      <th>8722</th>\n",
       "      <td>The Read</td>\n",
       "      <td>YT Assistance</td>\n",
       "      <td>80.56</td>\n",
       "      <td>2022-12-11</td>\n",
       "      <td>22:11:00</td>\n",
       "      <td>2022-12-11 22:11:00</td>\n",
       "      <td>4833760</td>\n",
       "      <td>Sunday</td>\n",
       "      <td>Night</td>\n",
       "      <td>Podcast</td>\n",
       "    </tr>\n",
       "    <tr>\n",
       "      <th>8723</th>\n",
       "      <td>Up First</td>\n",
       "      <td>Monday, December 12, 2022</td>\n",
       "      <td>12.76</td>\n",
       "      <td>2022-12-12</td>\n",
       "      <td>20:33:00</td>\n",
       "      <td>2022-12-12 20:33:00</td>\n",
       "      <td>765674</td>\n",
       "      <td>Monday</td>\n",
       "      <td>Night</td>\n",
       "      <td>Podcast</td>\n",
       "    </tr>\n",
       "  </tbody>\n",
       "</table>\n",
       "<p>1590 rows × 10 columns</p>\n",
       "</div>"
      ],
      "text/plain": [
       "                                     Artist  \\\n",
       "0                                        1A   \n",
       "1                                        1A   \n",
       "2                                        1A   \n",
       "3                                        1A   \n",
       "82                 Your Undivided Attention   \n",
       "...                                     ...   \n",
       "8719                               Up First   \n",
       "8720               Offline with Jon Favreau   \n",
       "8721  Jordan Klepper Fingers the Conspiracy   \n",
       "8722                               The Read   \n",
       "8723                               Up First   \n",
       "\n",
       "                                                  Track  Runtime (mins)  \\\n",
       "0            When A Kid Takes A Gun, Who's Responsible?           33.11   \n",
       "1                The News Roundup for December 10, 2021           62.39   \n",
       "2                The News Roundup for December 10, 2021           18.57   \n",
       "3                The News Roundup for December 10, 2021           17.39   \n",
       "82    A Conversation with Facebook Whistleblower Fra...           47.33   \n",
       "...                                                 ...             ...   \n",
       "8719                        Saturday, December 10, 2022           14.49   \n",
       "8720   Is This the End of Social Media? With Ian Bogost           45.15   \n",
       "8721                              Hunter Biden's Laptop           81.51   \n",
       "8722                                      YT Assistance           80.56   \n",
       "8723                          Monday, December 12, 2022           12.76   \n",
       "\n",
       "           Date      Time            DateTime  msPlayed       Day        ToD  \\\n",
       "0    2021-12-11  22:08:00 2021-12-11 22:08:00   1986784  Saturday      Night   \n",
       "1    2021-12-12  16:48:00 2021-12-12 16:48:00   3743130    Sunday    Daytime   \n",
       "2    2021-12-12  21:40:00 2021-12-12 21:40:00   1113944    Sunday      Night   \n",
       "3    2021-12-12  22:32:00 2021-12-12 22:32:00   1043458    Sunday      Night   \n",
       "82   2021-12-13  21:58:00 2021-12-13 21:58:00   2839786    Monday      Night   \n",
       "...         ...       ...                 ...       ...       ...        ...   \n",
       "8719 2022-12-11  04:45:00 2022-12-11 04:45:00    869656    Sunday  Overnight   \n",
       "8720 2022-12-11  19:26:00 2022-12-11 19:26:00   2709278    Sunday    Evening   \n",
       "8721 2022-12-11  20:49:00 2022-12-11 20:49:00   4890538    Sunday      Night   \n",
       "8722 2022-12-11  22:11:00 2022-12-11 22:11:00   4833760    Sunday      Night   \n",
       "8723 2022-12-12  20:33:00 2022-12-12 20:33:00    765674    Monday      Night   \n",
       "\n",
       "         Type  \n",
       "0     Podcast  \n",
       "1     Podcast  \n",
       "2     Podcast  \n",
       "3     Podcast  \n",
       "82    Podcast  \n",
       "...       ...  \n",
       "8719  Podcast  \n",
       "8720  Podcast  \n",
       "8721  Podcast  \n",
       "8722  Podcast  \n",
       "8723  Podcast  \n",
       "\n",
       "[1590 rows x 10 columns]"
      ]
     },
     "execution_count": 18,
     "metadata": {},
     "output_type": "execute_result"
    }
   ],
   "source": [
    "# Query for Types\n",
    "\n",
    "music22 = data22.query('Type == \"Music\"')\n",
    "music22\n",
    "\n",
    "pods22 = data22.query('Type == \"Podcast\"')\n",
    "pods22"
   ]
  },
  {
   "cell_type": "code",
   "execution_count": 20,
   "metadata": {},
   "outputs": [],
   "source": [
    "# # Rename 'artist' &  'track' columns for  Pocasts\n",
    "pods22 = pods22.rename(columns= {'Artist': 'Show', 'Track': 'Episode'})\n"
   ]
  },
  {
   "cell_type": "code",
   "execution_count": 21,
   "metadata": {},
   "outputs": [],
   "source": [
    "#Top 20 Artists\n",
    "top_artists = music22.groupby(['Artist']).size().reset_index(name = 'Counts')\n",
    "top_artists = top_artists.sort_values('Counts', ascending = False)\n",
    "\n",
    "#Top 20 Songs\n",
    "top_songs = music22.groupby(['Track']).size().reset_index(name = 'Counts')\n",
    "top_songs = top_songs.sort_values('Counts', ascending = False)\n",
    "\n",
    "#Top 20 Podcasts\n",
    "top_podcasts = pods22.groupby(['Show']).size().reset_index(name = 'Counts')\n",
    "top_podcasts = top_podcasts.sort_values('Counts', ascending = False)\n",
    "\n",
    "#Top 20 Episodes\n",
    "top_episodes = pods22.groupby(['Episode']).size().reset_index(name = 'Counts')\n",
    "top_episodes = top_episodes.sort_values('Counts', ascending = False)\n",
    "\n",
    "#Top 20 Overall\n",
    "top_performer = data22.groupby(['Artist']).size().reset_index(name = 'Counts')\n",
    "top_performer = top_performer.sort_values('Counts', ascending = False)\n",
    "\n",
    "#Top 20 Overall\n",
    "top_track = data22.groupby(['Track']).size().reset_index(name = 'Counts')\n",
    "top_track = top_track.sort_values('Counts', ascending = False)"
   ]
  },
  {
   "cell_type": "code",
   "execution_count": 22,
   "metadata": {},
   "outputs": [
    {
     "name": "stdout",
     "output_type": "stream",
     "text": [
      "                       Artist  Counts\n",
      "43                    Beyoncé    1593\n",
      "476                     Yebba     303\n",
      "430  The NPR Politics Podcast     274\n",
      "6                       Adele     265\n",
      "186              James Arthur     224\n",
      "143               Frank Ocean     220\n",
      "1                          1A     218\n",
      "107            Dermot Kennedy     199\n",
      "455             Tracy Chapman     158\n",
      "138  FiveThirtyEight Politics     151\n",
      "461                  Up First     144\n",
      "377                 Sam Smith     142\n",
      "71                    Cardi B     137\n",
      "304            Mumford & Sons     129\n",
      "479  Your Undivided Attention     112\n",
      "294       Megan Thee Stallion     105\n",
      "56                     Brandy     103\n",
      "79            Chris Stapleton     101\n",
      "64                  Burna Boy      95\n",
      "195          Jazmine Sullivan      94\n"
     ]
    }
   ],
   "source": [
    "print(top_performer.head(20))"
   ]
  },
  {
   "cell_type": "code",
   "execution_count": 23,
   "metadata": {},
   "outputs": [
    {
     "name": "stdout",
     "output_type": "stream",
     "text": [
      "                                                  Track  Counts\n",
      "268                                       BREAK MY SOUL     108\n",
      "646                                 ENERGY (feat. Beam)      98\n",
      "412                                         CHURCH GIRL      98\n",
      "415                                             CUFF IT      88\n",
      "132                                 ALL UP IN YOUR MIND      85\n",
      "1630                               PLASTIC OFF THE SOFA      85\n",
      "135                               AMERICA HAS A PROBLEM      83\n",
      "710                                           Evergreen      71\n",
      "896                                              HEATED      70\n",
      "1380                    MOVE (feat. Grace Jones & Tems)      67\n",
      "2414                                     VIRGO'S GROOVE      67\n",
      "1998                                             THIQUE      64\n",
      "1799                                 SUMMER RENAISSANCE      61\n",
      "414                                                COZY      60\n",
      "131                                     ALIEN SUPERSTAR      57\n",
      "1488                                            My Mind      57\n",
      "1104                                      I'M THAT GIRL      56\n",
      "1631                                         PURE/HONEY      56\n",
      "2408                                                 Up      43\n",
      "2424  Vegas (From the Original Motion Picture Soundt...      39\n"
     ]
    }
   ],
   "source": [
    "print(top_track.head(20))"
   ]
  },
  {
   "cell_type": "code",
   "execution_count": 24,
   "metadata": {},
   "outputs": [
    {
     "name": "stdout",
     "output_type": "stream",
     "text": [
      "                  Artist  Counts\n",
      "35               Beyoncé    1593\n",
      "399                Yebba     303\n",
      "5                  Adele     265\n",
      "155         James Arthur     224\n",
      "122          Frank Ocean     220\n",
      "90        Dermot Kennedy     199\n",
      "382        Tracy Chapman     158\n",
      "326            Sam Smith     142\n",
      "58               Cardi B     137\n",
      "264       Mumford & Sons     129\n",
      "255  Megan Thee Stallion     105\n",
      "46                Brandy     103\n",
      "66       Chris Stapleton     101\n",
      "53             Burna Boy      95\n",
      "163     Jazmine Sullivan      94\n",
      "311              Rihanna      91\n",
      "336                  Sia      84\n",
      "195        Kelly Rowland      75\n",
      "360          The Carters      70\n",
      "63         Chloe x Halle      69\n"
     ]
    }
   ],
   "source": [
    "print(top_artists.head(20))"
   ]
  },
  {
   "cell_type": "code",
   "execution_count": 25,
   "metadata": {},
   "outputs": [
    {
     "name": "stdout",
     "output_type": "stream",
     "text": [
      "                                                  Track  Counts\n",
      "123                                       BREAK MY SOUL     108\n",
      "387                                 ENERGY (feat. Beam)      98\n",
      "230                                         CHURCH GIRL      98\n",
      "233                                             CUFF IT      88\n",
      "1035                               PLASTIC OFF THE SOFA      85\n",
      "36                                  ALL UP IN YOUR MIND      85\n",
      "39                                AMERICA HAS A PROBLEM      83\n",
      "414                                           Evergreen      71\n",
      "543                                              HEATED      70\n",
      "868                     MOVE (feat. Grace Jones & Tems)      67\n",
      "1470                                     VIRGO'S GROOVE      67\n",
      "1298                                             THIQUE      64\n",
      "1147                                 SUMMER RENAISSANCE      61\n",
      "232                                                COZY      60\n",
      "929                                             My Mind      57\n",
      "35                                      ALIEN SUPERSTAR      57\n",
      "677                                       I'M THAT GIRL      56\n",
      "1036                                         PURE/HONEY      56\n",
      "1466                                                 Up      43\n",
      "1474  Vegas (From the Original Motion Picture Soundt...      39\n"
     ]
    }
   ],
   "source": [
    "print(top_songs.head(20))"
   ]
  },
  {
   "cell_type": "code",
   "execution_count": 26,
   "metadata": {},
   "outputs": [
    {
     "name": "stdout",
     "output_type": "stream",
     "text": [
      "                                                 Show  Counts\n",
      "62                           The NPR Politics Podcast     274\n",
      "0                                                  1A     218\n",
      "20                           FiveThirtyEight Politics     151\n",
      "74                                           Up First     144\n",
      "79                           Your Undivided Attention     112\n",
      "36                                  Maintenance Phase      84\n",
      "3                                          Archetypes      64\n",
      "64                       The Problem With Jon Stewart      38\n",
      "67                                           The Read      37\n",
      "46                                   Pod Save America      36\n",
      "23                             Gossip with Celebitchy      31\n",
      "43                           Offline with Jon Favreau      30\n",
      "31                     James O'Brien - The Whole Show      29\n",
      "5                    Armchair Expert with Dax Shepard      25\n",
      "13                                        Code Switch      23\n",
      "26  Higher Learning with Van Lathan and Rachel Lin...      20\n",
      "21                                          Fresh Air      19\n",
      "8               Beyond the Scenes from The Daily Show      18\n",
      "69                                   The Royal Report      13\n",
      "33                    Larry Wilmore: Black on the Air      12\n"
     ]
    }
   ],
   "source": [
    "print(top_podcasts.head(20))"
   ]
  },
  {
   "cell_type": "code",
   "execution_count": 27,
   "metadata": {},
   "outputs": [
    {
     "name": "stdout",
     "output_type": "stream",
     "text": [
      "                                                Episode  Counts\n",
      "772   The Misconception of Ambition with Serena Will...      13\n",
      "736               The Duality of Diva with Mariah Carey       9\n",
      "708   The Audacity of the Activist with Jameela Jami...       8\n",
      "570                   News Roundup for January 28, 2022       7\n",
      "896   Tim Miller on 'Why We Did It: A Travelogue fro...       6\n",
      "348   Good Wife/Bad Wife, Good Mom/Bad Mom with Soph...       6\n",
      "776                             The NeverEnding Episode       6\n",
      "493          Kathleen Belew (white supremacy historian)       6\n",
      "858                      The Wellness to QAnon Pipeline       5\n",
      "180                   Brian Klaas (political scientist)       5\n",
      "730   The Demystification of Dragon Lady with Margar...       5\n",
      "90    A Renegade Solution to Extractive Economics — ...       5\n",
      "690   Spotlight — The Facebook Files with Tristan Ha...       4\n",
      "190              Cathy O'Neil (data scientist on shame)       4\n",
      "666   School Lunches, P-Hacking and the Original \"Pi...       4\n",
      "566                  News Roundup for February 04, 2022       4\n",
      "178   Breaking down 'The Bimbo' with Paris Hilton & ...       4\n",
      "1022   What Tuesday's Primaries Could Mean For November       4\n",
      "116   Americans Aren’t Happy With Biden. Or Republic...       4\n",
      "142                                        BOGO TF Away       4\n"
     ]
    }
   ],
   "source": [
    "print(top_episodes.head(20))"
   ]
  },
  {
   "cell_type": "code",
   "execution_count": 28,
   "metadata": {},
   "outputs": [
    {
     "data": {
      "text/plain": [
       "ToD\n",
       "Overnight    16634.64\n",
       "Morning       4474.54\n",
       "Daytime      16086.78\n",
       "Evening      17268.26\n",
       "Night        20340.22\n",
       "Name: Runtime (mins), dtype: float64"
      ]
     },
     "execution_count": 28,
     "metadata": {},
     "output_type": "execute_result"
    }
   ],
   "source": [
    "data22.groupby([data22[\"ToD\"]])[\"Runtime (mins)\"].sum()"
   ]
  },
  {
   "cell_type": "code",
   "execution_count": 29,
   "metadata": {},
   "outputs": [
    {
     "data": {
      "text/plain": [
       "ToD\n",
       "Overnight     6.543918\n",
       "Morning       4.695215\n",
       "Daytime      10.611332\n",
       "Evening      10.587529\n",
       "Night         9.769558\n",
       "Name: Runtime (mins), dtype: float64"
      ]
     },
     "execution_count": 29,
     "metadata": {},
     "output_type": "execute_result"
    }
   ],
   "source": [
    "data22.groupby([data22[\"ToD\"]])[\"Runtime (mins)\"].mean()"
   ]
  },
  {
   "attachments": {},
   "cell_type": "markdown",
   "metadata": {},
   "source": [
    "##### Custom Tables for Viz."
   ]
  },
  {
   "cell_type": "code",
   "execution_count": 35,
   "metadata": {},
   "outputs": [
    {
     "data": {
      "text/html": [
       "<div>\n",
       "<style scoped>\n",
       "    .dataframe tbody tr th:only-of-type {\n",
       "        vertical-align: middle;\n",
       "    }\n",
       "\n",
       "    .dataframe tbody tr th {\n",
       "        vertical-align: top;\n",
       "    }\n",
       "\n",
       "    .dataframe thead th {\n",
       "        text-align: right;\n",
       "    }\n",
       "</style>\n",
       "<table border=\"1\" class=\"dataframe\">\n",
       "  <thead>\n",
       "    <tr style=\"text-align: right;\">\n",
       "      <th></th>\n",
       "      <th>Runtime (mins)</th>\n",
       "    </tr>\n",
       "    <tr>\n",
       "      <th>Date</th>\n",
       "      <th></th>\n",
       "    </tr>\n",
       "  </thead>\n",
       "  <tbody>\n",
       "    <tr>\n",
       "      <th>2021-12-11</th>\n",
       "      <td>33.11</td>\n",
       "    </tr>\n",
       "    <tr>\n",
       "      <th>2021-12-12</th>\n",
       "      <td>106.73</td>\n",
       "    </tr>\n",
       "    <tr>\n",
       "      <th>2021-12-13</th>\n",
       "      <td>321.73</td>\n",
       "    </tr>\n",
       "    <tr>\n",
       "      <th>2021-12-14</th>\n",
       "      <td>0.00</td>\n",
       "    </tr>\n",
       "    <tr>\n",
       "      <th>2021-12-15</th>\n",
       "      <td>3.25</td>\n",
       "    </tr>\n",
       "    <tr>\n",
       "      <th>...</th>\n",
       "      <td>...</td>\n",
       "    </tr>\n",
       "    <tr>\n",
       "      <th>2022-12-08</th>\n",
       "      <td>0.00</td>\n",
       "    </tr>\n",
       "    <tr>\n",
       "      <th>2022-12-09</th>\n",
       "      <td>228.77</td>\n",
       "    </tr>\n",
       "    <tr>\n",
       "      <th>2022-12-10</th>\n",
       "      <td>472.70</td>\n",
       "    </tr>\n",
       "    <tr>\n",
       "      <th>2022-12-11</th>\n",
       "      <td>221.71</td>\n",
       "    </tr>\n",
       "    <tr>\n",
       "      <th>2022-12-12</th>\n",
       "      <td>12.76</td>\n",
       "    </tr>\n",
       "  </tbody>\n",
       "</table>\n",
       "<p>367 rows × 1 columns</p>\n",
       "</div>"
      ],
      "text/plain": [
       "            Runtime (mins)\n",
       "Date                      \n",
       "2021-12-11           33.11\n",
       "2021-12-12          106.73\n",
       "2021-12-13          321.73\n",
       "2021-12-14            0.00\n",
       "2021-12-15            3.25\n",
       "...                    ...\n",
       "2022-12-08            0.00\n",
       "2022-12-09          228.77\n",
       "2022-12-10          472.70\n",
       "2022-12-11          221.71\n",
       "2022-12-12           12.76\n",
       "\n",
       "[367 rows x 1 columns]"
      ]
     },
     "execution_count": 35,
     "metadata": {},
     "output_type": "execute_result"
    }
   ],
   "source": [
    "daily_listen = data22.resample('D', on='Date').agg({'Runtime (mins)': 'sum'})\n",
    "\n",
    "daily_listen"
   ]
  },
  {
   "cell_type": "code",
   "execution_count": 36,
   "metadata": {},
   "outputs": [
    {
     "data": {
      "text/html": [
       "<div>\n",
       "<style scoped>\n",
       "    .dataframe tbody tr th:only-of-type {\n",
       "        vertical-align: middle;\n",
       "    }\n",
       "\n",
       "    .dataframe tbody tr th {\n",
       "        vertical-align: top;\n",
       "    }\n",
       "\n",
       "    .dataframe thead th {\n",
       "        text-align: right;\n",
       "    }\n",
       "</style>\n",
       "<table border=\"1\" class=\"dataframe\">\n",
       "  <thead>\n",
       "    <tr style=\"text-align: right;\">\n",
       "      <th></th>\n",
       "      <th>Runtime (mins)</th>\n",
       "    </tr>\n",
       "  </thead>\n",
       "  <tbody>\n",
       "    <tr>\n",
       "      <th>count</th>\n",
       "      <td>367.000000</td>\n",
       "    </tr>\n",
       "    <tr>\n",
       "      <th>mean</th>\n",
       "      <td>203.826812</td>\n",
       "    </tr>\n",
       "    <tr>\n",
       "      <th>std</th>\n",
       "      <td>181.815398</td>\n",
       "    </tr>\n",
       "    <tr>\n",
       "      <th>min</th>\n",
       "      <td>0.000000</td>\n",
       "    </tr>\n",
       "    <tr>\n",
       "      <th>25%</th>\n",
       "      <td>40.980000</td>\n",
       "    </tr>\n",
       "    <tr>\n",
       "      <th>50%</th>\n",
       "      <td>172.090000</td>\n",
       "    </tr>\n",
       "    <tr>\n",
       "      <th>75%</th>\n",
       "      <td>308.890000</td>\n",
       "    </tr>\n",
       "    <tr>\n",
       "      <th>max</th>\n",
       "      <td>876.230000</td>\n",
       "    </tr>\n",
       "  </tbody>\n",
       "</table>\n",
       "</div>"
      ],
      "text/plain": [
       "       Runtime (mins)\n",
       "count      367.000000\n",
       "mean       203.826812\n",
       "std        181.815398\n",
       "min          0.000000\n",
       "25%         40.980000\n",
       "50%        172.090000\n",
       "75%        308.890000\n",
       "max        876.230000"
      ]
     },
     "execution_count": 36,
     "metadata": {},
     "output_type": "execute_result"
    }
   ],
   "source": [
    "daily_listen.describe()"
   ]
  },
  {
   "attachments": {},
   "cell_type": "markdown",
   "metadata": {},
   "source": [
    "#### First Visualizations"
   ]
  },
  {
   "attachments": {},
   "cell_type": "markdown",
   "metadata": {},
   "source": [
    "###### Listening Time"
   ]
  },
  {
   "cell_type": "code",
   "execution_count": 44,
   "metadata": {},
   "outputs": [
    {
     "data": {
      "text/plain": [
       "<AxesSubplot:xlabel='Date'>"
      ]
     },
     "execution_count": 44,
     "metadata": {},
     "output_type": "execute_result"
    },
    {
     "data": {
      "image/png": "[encoded data removed]",
      "text/plain": [
       "<Figure size 720x360 with 1 Axes>"
      ]
     },
     "metadata": {
      "needs_background": "light"
     },
     "output_type": "display_data"
    }
   ],
   "source": [
    "# Listening time by month:\n",
    "## ONCE I SOLVE THE RUNTIME ISSUE, replace it in the assignment of the daily_listen df for\n",
    "## these charts\n",
    "\n",
    "daily_listen.resample('M').sum().plot(style='-o', figsize=(10,5))"
   ]
  },
  {
   "cell_type": "code",
   "execution_count": 45,
   "metadata": {},
   "outputs": [
    {
     "data": {
      "text/plain": [
       "<AxesSubplot:xlabel='Date'>"
      ]
     },
     "execution_count": 45,
     "metadata": {},
     "output_type": "execute_result"
    },
    {
     "data": {
      "image/png": "[encoded data removed]",
      "text/plain": [
       "<Figure size 720x360 with 1 Axes>"
      ]
     },
     "metadata": {
      "needs_background": "light"
     },
     "output_type": "display_data"
    }
   ],
   "source": [
    "daily_listen.resample('M').mean().plot(style='-o', figsize=(10,5))"
   ]
  },
  {
   "cell_type": "code",
   "execution_count": 47,
   "metadata": {},
   "outputs": [
    {
     "name": "stdout",
     "output_type": "stream",
     "text": [
      "         Day  minutes\n",
      "0     Friday     1389\n",
      "1     Monday     1005\n",
      "2   Saturday     1292\n",
      "3     Sunday     1999\n",
      "4   Thursday      866\n",
      "5    Tuesday      988\n",
      "6  Wednesday     1185\n"
     ]
    }
   ],
   "source": [
    "lt_day = data22.groupby(['Day']).size().reset_index(name=\"minutes\")\n",
    "print(lt_day)\n",
    "\n",
    "# This output is sorted in alphabetical order, I can resort"
   ]
  },
  {
   "cell_type": "code",
   "execution_count": 48,
   "metadata": {},
   "outputs": [
    {
     "name": "stdout",
     "output_type": "stream",
     "text": [
      "         Day  Time (min)\n",
      "3     Sunday        1999\n",
      "0     Friday        1389\n",
      "2   Saturday        1292\n",
      "6  Wednesday        1185\n",
      "1     Monday        1005\n",
      "5    Tuesday         988\n",
      "4   Thursday         866\n"
     ]
    }
   ],
   "source": [
    "lt_day = data22.groupby(['Day']).size().reset_index(name=\"Time (min)\").sort_values(['Time (min)'], ascending= False)\n",
    "print(lt_day)\n",
    "\n",
    "# resorted"
   ]
  },
  {
   "cell_type": "code",
   "execution_count": 49,
   "metadata": {},
   "outputs": [
    {
     "data": {
      "text/plain": [
       "<AxesSubplot:xlabel='Day', ylabel='Time (min)'>"
      ]
     },
     "execution_count": 49,
     "metadata": {},
     "output_type": "execute_result"
    },
    {
     "data": {
      "image/png": "[encoded data removed]",
      "text/plain": [
       "<Figure size 720x360 with 1 Axes>"
      ]
     },
     "metadata": {
      "needs_background": "light"
     },
     "output_type": "display_data"
    }
   ],
   "source": [
    "plt.figure(figsize=(10,5))\n",
    "sns.barplot(x='Day', y='Time (min)', data=lt_day, color='blue')"
   ]
  },
  {
   "cell_type": "code",
   "execution_count": 50,
   "metadata": {},
   "outputs": [
    {
     "name": "stdout",
     "output_type": "stream",
     "text": [
      "         ToD  minutes\n",
      "0  Overnight     2542\n",
      "1    Morning      953\n",
      "2    Daytime     1516\n",
      "3    Evening     1631\n",
      "4      Night     2082\n"
     ]
    }
   ],
   "source": [
    "lt_tod = data22.groupby(['ToD']).size().reset_index(name=\"minutes\")\n",
    "print(lt_tod)"
   ]
  },
  {
   "cell_type": "code",
   "execution_count": 51,
   "metadata": {},
   "outputs": [
    {
     "data": {
      "image/png": "[encoded data removed]",
      "text/plain": [
       "<Figure size 720x360 with 1 Axes>"
      ]
     },
     "metadata": {
      "needs_background": "light"
     },
     "output_type": "display_data"
    }
   ],
   "source": [
    "plt.figure(figsize=(10,5))\n",
    "sns.barplot(x='ToD', y='minutes', data= lt_tod, color='blue')\n",
    "plt.show()\n",
    "\n",
    "# now do it in two by type"
   ]
  },
  {
   "cell_type": "code",
   "execution_count": 52,
   "metadata": {},
   "outputs": [
    {
     "data": {
      "text/plain": [
       "<AxesSubplot:xlabel='Type', ylabel='count'>"
      ]
     },
     "execution_count": 52,
     "metadata": {},
     "output_type": "execute_result"
    },
    {
     "data": {
      "image/png": "[encoded data removed]",
      "text/plain": [
       "<Figure size 432x288 with 1 Axes>"
      ]
     },
     "metadata": {
      "needs_background": "light"
     },
     "output_type": "display_data"
    }
   ],
   "source": [
    "# The number of rows by type -  refactor this\n",
    "sns.countplot(x='Type', data=data22)"
   ]
  },
  {
   "cell_type": "code",
   "execution_count": 55,
   "metadata": {},
   "outputs": [
    {
     "data": {
      "text/html": [
       "<div>\n",
       "<style scoped>\n",
       "    .dataframe tbody tr th:only-of-type {\n",
       "        vertical-align: middle;\n",
       "    }\n",
       "\n",
       "    .dataframe tbody tr th {\n",
       "        vertical-align: top;\n",
       "    }\n",
       "\n",
       "    .dataframe thead th {\n",
       "        text-align: right;\n",
       "    }\n",
       "</style>\n",
       "<table border=\"1\" class=\"dataframe\">\n",
       "  <thead>\n",
       "    <tr style=\"text-align: right;\">\n",
       "      <th></th>\n",
       "      <th></th>\n",
       "      <th>Runtime (mins)</th>\n",
       "    </tr>\n",
       "    <tr>\n",
       "      <th>Type</th>\n",
       "      <th>Date</th>\n",
       "      <th></th>\n",
       "    </tr>\n",
       "  </thead>\n",
       "  <tbody>\n",
       "    <tr>\n",
       "      <th rowspan=\"13\" valign=\"top\">Music</th>\n",
       "      <th>2021-12-31</th>\n",
       "      <td>1447.67</td>\n",
       "    </tr>\n",
       "    <tr>\n",
       "      <th>2022-01-31</th>\n",
       "      <td>3243.40</td>\n",
       "    </tr>\n",
       "    <tr>\n",
       "      <th>2022-02-28</th>\n",
       "      <td>2383.12</td>\n",
       "    </tr>\n",
       "    <tr>\n",
       "      <th>2022-03-31</th>\n",
       "      <td>2541.02</td>\n",
       "    </tr>\n",
       "    <tr>\n",
       "      <th>2022-04-30</th>\n",
       "      <td>3541.25</td>\n",
       "    </tr>\n",
       "    <tr>\n",
       "      <th>2022-05-31</th>\n",
       "      <td>1308.54</td>\n",
       "    </tr>\n",
       "    <tr>\n",
       "      <th>2022-06-30</th>\n",
       "      <td>3060.60</td>\n",
       "    </tr>\n",
       "    <tr>\n",
       "      <th>2022-07-31</th>\n",
       "      <td>2895.43</td>\n",
       "    </tr>\n",
       "    <tr>\n",
       "      <th>2022-08-31</th>\n",
       "      <td>3424.78</td>\n",
       "    </tr>\n",
       "    <tr>\n",
       "      <th>2022-09-30</th>\n",
       "      <td>2104.52</td>\n",
       "    </tr>\n",
       "    <tr>\n",
       "      <th>2022-10-31</th>\n",
       "      <td>1486.81</td>\n",
       "    </tr>\n",
       "    <tr>\n",
       "      <th>2022-11-30</th>\n",
       "      <td>1027.55</td>\n",
       "    </tr>\n",
       "    <tr>\n",
       "      <th>2022-12-31</th>\n",
       "      <td>320.53</td>\n",
       "    </tr>\n",
       "    <tr>\n",
       "      <th rowspan=\"13\" valign=\"top\">Podcast</th>\n",
       "      <th>2021-12-31</th>\n",
       "      <td>1444.63</td>\n",
       "    </tr>\n",
       "    <tr>\n",
       "      <th>2022-01-31</th>\n",
       "      <td>2578.47</td>\n",
       "    </tr>\n",
       "    <tr>\n",
       "      <th>2022-02-28</th>\n",
       "      <td>1882.50</td>\n",
       "    </tr>\n",
       "    <tr>\n",
       "      <th>2022-03-31</th>\n",
       "      <td>1333.11</td>\n",
       "    </tr>\n",
       "    <tr>\n",
       "      <th>2022-04-30</th>\n",
       "      <td>2670.29</td>\n",
       "    </tr>\n",
       "    <tr>\n",
       "      <th>2022-05-31</th>\n",
       "      <td>1974.64</td>\n",
       "    </tr>\n",
       "    <tr>\n",
       "      <th>2022-06-30</th>\n",
       "      <td>3808.32</td>\n",
       "    </tr>\n",
       "    <tr>\n",
       "      <th>2022-07-31</th>\n",
       "      <td>5197.11</td>\n",
       "    </tr>\n",
       "    <tr>\n",
       "      <th>2022-08-31</th>\n",
       "      <td>5395.40</td>\n",
       "    </tr>\n",
       "    <tr>\n",
       "      <th>2022-09-30</th>\n",
       "      <td>6745.65</td>\n",
       "    </tr>\n",
       "    <tr>\n",
       "      <th>2022-10-31</th>\n",
       "      <td>4487.22</td>\n",
       "    </tr>\n",
       "    <tr>\n",
       "      <th>2022-11-30</th>\n",
       "      <td>6581.48</td>\n",
       "    </tr>\n",
       "    <tr>\n",
       "      <th>2022-12-31</th>\n",
       "      <td>1920.40</td>\n",
       "    </tr>\n",
       "  </tbody>\n",
       "</table>\n",
       "</div>"
      ],
      "text/plain": [
       "                    Runtime (mins)\n",
       "Type    Date                      \n",
       "Music   2021-12-31         1447.67\n",
       "        2022-01-31         3243.40\n",
       "        2022-02-28         2383.12\n",
       "        2022-03-31         2541.02\n",
       "        2022-04-30         3541.25\n",
       "        2022-05-31         1308.54\n",
       "        2022-06-30         3060.60\n",
       "        2022-07-31         2895.43\n",
       "        2022-08-31         3424.78\n",
       "        2022-09-30         2104.52\n",
       "        2022-10-31         1486.81\n",
       "        2022-11-30         1027.55\n",
       "        2022-12-31          320.53\n",
       "Podcast 2021-12-31         1444.63\n",
       "        2022-01-31         2578.47\n",
       "        2022-02-28         1882.50\n",
       "        2022-03-31         1333.11\n",
       "        2022-04-30         2670.29\n",
       "        2022-05-31         1974.64\n",
       "        2022-06-30         3808.32\n",
       "        2022-07-31         5197.11\n",
       "        2022-08-31         5395.40\n",
       "        2022-09-30         6745.65\n",
       "        2022-10-31         4487.22\n",
       "        2022-11-30         6581.48\n",
       "        2022-12-31         1920.40"
      ]
     },
     "execution_count": 55,
     "metadata": {},
     "output_type": "execute_result"
    }
   ],
   "source": [
    "dl1 = data22.groupby('Type').resample('M', on='Date').agg({'Runtime (mins)': 'sum'}) #JACKPOT\n",
    "\n",
    "dl1"
   ]
  },
  {
   "cell_type": "code",
   "execution_count": 56,
   "metadata": {},
   "outputs": [
    {
     "data": {
      "text/plain": [
       "<AxesSubplot:xlabel='Date', ylabel='Runtime (mins)'>"
      ]
     },
     "execution_count": 56,
     "metadata": {},
     "output_type": "execute_result"
    },
    {
     "data": {
      "image/png": "[encoded data removed]",
      "text/plain": [
       "<Figure size 432x288 with 1 Axes>"
      ]
     },
     "metadata": {
      "needs_background": "light"
     },
     "output_type": "display_data"
    }
   ],
   "source": [
    "sns.lineplot(data=dl1, x='Date', y='Runtime (mins)', palette='blue')"
   ]
  },
  {
   "cell_type": "code",
   "execution_count": 57,
   "metadata": {},
   "outputs": [
    {
     "data": {
      "text/plain": [
       "<AxesSubplot:xlabel='Date', ylabel='Runtime (mins)'>"
      ]
     },
     "execution_count": 57,
     "metadata": {},
     "output_type": "execute_result"
    },
    {
     "data": {
      "image/png": "[encoded data removed]",
      "text/plain": [
       "<Figure size 432x288 with 1 Axes>"
      ]
     },
     "metadata": {
      "needs_background": "light"
     },
     "output_type": "display_data"
    }
   ],
   "source": [
    "sns.lineplot(data=dl1, x='Date', y='Runtime (mins)', hue='Type', palette=['purple', 'green'])"
   ]
  },
  {
   "attachments": {},
   "cell_type": "markdown",
   "metadata": {},
   "source": [
    "###### Top Artists/Show"
   ]
  },
  {
   "cell_type": "code",
   "execution_count": 110,
   "metadata": {},
   "outputs": [
    {
     "data": {
      "text/html": [
       "<div>\n",
       "<style scoped>\n",
       "    .dataframe tbody tr th:only-of-type {\n",
       "        vertical-align: middle;\n",
       "    }\n",
       "\n",
       "    .dataframe tbody tr th {\n",
       "        vertical-align: top;\n",
       "    }\n",
       "\n",
       "    .dataframe thead th {\n",
       "        text-align: right;\n",
       "    }\n",
       "</style>\n",
       "<table border=\"1\" class=\"dataframe\">\n",
       "  <thead>\n",
       "    <tr style=\"text-align: right;\">\n",
       "      <th></th>\n",
       "      <th>Artist</th>\n",
       "      <th>Counts</th>\n",
       "    </tr>\n",
       "  </thead>\n",
       "  <tbody>\n",
       "    <tr>\n",
       "      <th>35</th>\n",
       "      <td>Beyoncé</td>\n",
       "      <td>1593</td>\n",
       "    </tr>\n",
       "    <tr>\n",
       "      <th>399</th>\n",
       "      <td>Yebba</td>\n",
       "      <td>303</td>\n",
       "    </tr>\n",
       "    <tr>\n",
       "      <th>5</th>\n",
       "      <td>Adele</td>\n",
       "      <td>265</td>\n",
       "    </tr>\n",
       "    <tr>\n",
       "      <th>155</th>\n",
       "      <td>James Arthur</td>\n",
       "      <td>224</td>\n",
       "    </tr>\n",
       "    <tr>\n",
       "      <th>122</th>\n",
       "      <td>Frank Ocean</td>\n",
       "      <td>220</td>\n",
       "    </tr>\n",
       "  </tbody>\n",
       "</table>\n",
       "</div>"
      ],
      "text/plain": [
       "           Artist  Counts\n",
       "35        Beyoncé    1593\n",
       "399         Yebba     303\n",
       "5           Adele     265\n",
       "155  James Arthur     224\n",
       "122   Frank Ocean     220"
      ]
     },
     "execution_count": 110,
     "metadata": {},
     "output_type": "execute_result"
    }
   ],
   "source": [
    "# Top 5 Artists - count of appearances in the table\n",
    "\n",
    "top_artists.head(5)"
   ]
  },
  {
   "cell_type": "code",
   "execution_count": 62,
   "metadata": {},
   "outputs": [],
   "source": [
    "top5 = top_songs.head(5)"
   ]
  },
  {
   "cell_type": "code",
   "execution_count": 67,
   "metadata": {},
   "outputs": [
    {
     "data": {
      "text/plain": [
       "<AxesSubplot:xlabel='Day', ylabel='Runtime (mins)'>"
      ]
     },
     "execution_count": 67,
     "metadata": {},
     "output_type": "execute_result"
    },
    {
     "data": {
      "image/png": "[encoded data removed]",
      "text/plain": [
       "<Figure size 432x288 with 1 Axes>"
      ]
     },
     "metadata": {
      "needs_background": "light"
     },
     "output_type": "display_data"
    }
   ],
   "source": [
    "sns.lineplot(data=data22, x='Day', y='Runtime (mins)', hue='ToD')\n",
    "# refactor"
   ]
  },
  {
   "cell_type": "code",
   "execution_count": null,
   "metadata": {},
   "outputs": [],
   "source": []
  }
 ],
 "metadata": {
  "kernelspec": {
   "display_name": "Python 3",
   "language": "python",
   "name": "python3"
  },
  "language_info": {
   "codemirror_mode": {
    "name": "ipython",
    "version": 3
   },
   "file_extension": ".py",
   "mimetype": "text/x-python",
   "name": "python",
   "nbconvert_exporter": "python",
   "pygments_lexer": "ipython3",
   "version": "3.10.1"
  },
  "orig_nbformat": 4
 },
 "nbformat": 4,
 "nbformat_minor": 2
}
